{
 "cells": [
  {
   "cell_type": "code",
   "execution_count": 4,
   "id": "a552d6a7-b36f-44ec-b6a3-3aaef14b31b6",
   "metadata": {},
   "outputs": [
    {
     "name": "stdout",
     "output_type": "stream",
     "text": [
      "Friction factor: 0.017851\n"
     ]
    }
   ],
   "source": [
    "import numpy as np\n",
    "from scipy.optimize import fsolve\n",
    "\n",
    "def colebrook_equation(f, Re, epsilon, D):\n",
    "    return 1.0 / np.sqrt(f) + 4.0 * np.log10((epsilon / D) / 3.7 + 1.255 / (Re * np.sqrt(f)))\n",
    "\n",
    "def find_friction_factor(Re, epsilon, D):\n",
    "    # Initial guess for f\n",
    "    f_initial_guess = 0.02\n",
    "    \n",
    "    # Solve for f using fsolve\n",
    "    f_solution, = fsolve(colebrook_equation, f_initial_guess, args=(Re, epsilon, D))\n",
    "    return f_solution\n",
    "\n",
    "# Example usage\n",
    "Re = 23525 # Reynolds number\n",
    "epsilon = 0.00483  # Roughness height in meters\n",
    "D = 0.1  # Diameter in meters\n",
    "\n",
    "friction_factor = find_friction_factor(Re, epsilon, D)\n",
    "print(f\"Friction factor: {friction_factor:.6f}\")\n"
   ]
  },
  {
   "cell_type": "code",
   "execution_count": null,
   "id": "eca7c590-7173-4d99-9846-9a1544d0eca5",
   "metadata": {},
   "outputs": [],
   "source": []
  }
 ],
 "metadata": {
  "kernelspec": {
   "display_name": "Python 3 (ipykernel)",
   "language": "python",
   "name": "python3"
  },
  "language_info": {
   "codemirror_mode": {
    "name": "ipython",
    "version": 3
   },
   "file_extension": ".py",
   "mimetype": "text/x-python",
   "name": "python",
   "nbconvert_exporter": "python",
   "pygments_lexer": "ipython3",
   "version": "3.10.14"
  }
 },
 "nbformat": 4,
 "nbformat_minor": 5
}
