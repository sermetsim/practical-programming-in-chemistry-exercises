{
 "cells": [
  {
   "cell_type": "markdown",
   "metadata": {},
   "source": [
    "# 1. Python Data Types"
   ]
  },
  {
   "cell_type": "markdown",
   "metadata": {},
   "source": [
    "## Recap on data types\n",
    "\n",
    "Python has several built-in data types, which are categorized into:\n",
    "- Numeric: `int`, `float`\n",
    "- Sequence: `str`, `list`, `tuple`\n",
    "- Mapping: `dict`\n",
    "- Set: `set`\n",
    "- Boolean: `bool`"
   ]
  },
  {
   "cell_type": "markdown",
   "metadata": {},
   "source": [
    "### Numeric Data Types\n",
    "- `int`: Integer, e.g. 1, 2, 3\n",
    "- `float`: Floating point number, e.g. 1.0, -2.5, 3.14\n",
    "- `complex`: Complex number, e.g. 1 + 2j, 3 - 4j"
   ]
  },
  {
   "cell_type": "code",
   "execution_count": null,
   "metadata": {},
   "outputs": [],
   "source": [
    "# Integer\n",
    "int_var = 10\n",
    "print(type(int_var))  # <class 'int'>\n",
    "\n",
    "# Float\n",
    "float_var = 10.5\n",
    "print(type(float_var))  # <class 'float'>\n",
    "\n",
    "# Complex\n",
    "complex_var = 10 + 5j\n",
    "print(type(complex_var))  # <class 'complex'>"
   ]
  },
  {
   "cell_type": "markdown",
   "metadata": {},
   "source": [
    "### Sequence Data Types\n",
    "Sequence data types are **ordered** collections of similar or different data types. The elements in a sequence can be accessed using **indexing**.\n",
    "- `str`: String, e.g. \"hello\", 'world'\n",
    "- `list`: List, e.g. [1, 2, 3], ['a', 'b', 'c']\n",
    "- `tuple`: Tuple, e.g. (1, 2, 3), ('a', 'b', 'c')"
   ]
  },
  {
   "cell_type": "code",
   "execution_count": null,
   "metadata": {},
   "outputs": [],
   "source": [
    "# String\n",
    "str_var = \"Hello, Python!\"\n",
    "print(type(str_var))  # <class 'str'>\n",
    "\n",
    "# List\n",
    "list_var = [1, 2, 3, 4, 5]\n",
    "print(type(list_var))  # <class 'list'>\n",
    "\n",
    "# Tuple\n",
    "tuple_var = (1, 2, 3, 4, 5)\n",
    "print(type(tuple_var))  # <class 'tuple'>"
   ]
  },
  {
   "cell_type": "markdown",
   "metadata": {},
   "source": [
    "#### Indexing\n",
    "- Indexing in Python starts from 0.\n",
    "- Negative indexing is also possible, where -1 refers to the last element, -2 refers to the second last element, and so on.\n",
    "- Slicing can be used to access a range of elements in a sequence.\n",
    "    - The syntax for slicing is `sequence[start:stop:step]`."
   ]
  },
  {
   "cell_type": "code",
   "execution_count": null,
   "metadata": {},
   "outputs": [],
   "source": [
    "# These types are ordered and can be indexed\n",
    "print(str_var[0])\n",
    "print(list_var[3])\n",
    "print(tuple_var[-1])"
   ]
  },
  {
   "cell_type": "code",
   "execution_count": null,
   "metadata": {},
   "outputs": [],
   "source": [
    "print(str_var[0:5])"
   ]
  },
  {
   "cell_type": "markdown",
   "metadata": {},
   "source": [
    "#### Difference between `list` and `tuple`\n",
    "- `list` is mutable, i.e. the elements in a list can be changed or modified.\n",
    "- `tuple` is immutable, i.e. the elements in a tuple cannot be changed or modified."
   ]
  },
  {
   "cell_type": "code",
   "execution_count": null,
   "metadata": {},
   "outputs": [],
   "source": [
    "list_var[0] = 10\n",
    "print(list_var)  # [10, 2, 3, 4, 5]"
   ]
  },
  {
   "cell_type": "code",
   "execution_count": null,
   "metadata": {},
   "outputs": [],
   "source": [
    "tuple_var[0] = 10  # TypeError: 'tuple' object does not support item assignment"
   ]
  },
  {
   "cell_type": "markdown",
   "metadata": {},
   "source": [
    "#### String Methods\n",
    "- `str` has several built-in methods, such as `upper()`, `lower()`, `strip()`, `split()`, `join()`, `find()` etc.\n",
    "- `str` is immutable, i.e. the elements in a string cannot be changed or modified.\n",
    "- String concatenation can be done using the `+` operator.\n",
    "- String formatting can be done using f-strings."
   ]
  },
  {
   "cell_type": "code",
   "execution_count": null,
   "metadata": {},
   "outputs": [],
   "source": [
    "# built in string methods\n",
    "print(str_var.lower())\n",
    "print(str_var.upper())\n",
    "print(str_var.split(\",\"))\n",
    "print(str_var.replace(\"Hello\", \"Hi\"))\n",
    "print(str_var.find(\"Python\"))"
   ]
  },
  {
   "cell_type": "code",
   "execution_count": null,
   "metadata": {},
   "outputs": [],
   "source": [
    "# f string\n",
    "molecules = 'hydrogen oxide'\n",
    "atoms = 3\n",
    "print(f'Water is composed of mostly {molecules} and it has {atoms} atoms')"
   ]
  },
  {
   "cell_type": "markdown",
   "metadata": {},
   "source": [
    "### Set\n",
    "A set is an unordered collection of **unique** elements. It is defined by a pair of curly braces `{}`.\n",
    "- `set`: Set, e.g. {1, 2, 3}, {'a', 'b', 'c'}"
   ]
  },
  {
   "cell_type": "code",
   "execution_count": null,
   "metadata": {},
   "outputs": [],
   "source": [
    "set_var = {1, 2, 3, 4, 5}\n",
    "print(type(set_var))  # <class 'set'>"
   ]
  },
  {
   "cell_type": "code",
   "execution_count": null,
   "metadata": {},
   "outputs": [],
   "source": [
    "# type is unordered and unindexed\n",
    "print(set_var[0])  # TypeError: 'set' object is not subscriptable"
   ]
  },
  {
   "cell_type": "code",
   "execution_count": null,
   "metadata": {},
   "outputs": [],
   "source": [
    "# showcase that unique elements are stored in set\n",
    "set_var = {1, 2, 3, 4, 5, 5, 5, 5, 5}\n",
    "print(set_var)"
   ]
  },
  {
   "cell_type": "markdown",
   "metadata": {},
   "source": [
    "#### Usage of Sets\n",
    "- To eliminate duplicate elements from a list. (*See above*)\n",
    "- To perform mathematical set operations like union, intersection, difference, etc."
   ]
  },
  {
   "cell_type": "code",
   "execution_count": null,
   "metadata": {},
   "outputs": [],
   "source": [
    "# show use cases for sets\n",
    "set_var1 = {1, 2, 3, 4, 5}\n",
    "set_var2 = {4, 5, 6, 7, 8}\n",
    "\n",
    "print(set_var1.union(set_var2))  # {1, 2, 3, 4, 5, 6, 7, 8}\n",
    "print(set_var1.intersection(set_var2))  # {4, 5}\n",
    "print(set_var1.difference(set_var2))  # {1, 2, 3}\n",
    "print(set_var1.symmetric_difference(set_var2))  # {1, 2, 3, 6, 7, 8}"
   ]
  },
  {
   "cell_type": "markdown",
   "metadata": {},
   "source": [
    "### Mapping Data Types\n",
    "A dictionary is a collection which is unordered, changeable and indexed. In Python dictionaries are written with curly brackets, and they have keys and values.\n",
    "- `dict`: Dictionary, e.g. {'amino acid': ['alanine', 'valine'], 'nucleotide': ['adenine', 'thymine']}"
   ]
  },
  {
   "cell_type": "code",
   "execution_count": null,
   "metadata": {},
   "outputs": [],
   "source": [
    "dict_var = {\"halogen\": \"fluorine\", \"noble_gas\": \"helium\", \"alkali_metal\": \"lithium\"}\n",
    "print(type(dict_var))  # <class 'dict'>\n",
    "print('keys:', dict_var.keys())\n",
    "print('values:', dict_var.values())"
   ]
  },
  {
   "cell_type": "markdown",
   "metadata": {},
   "source": [
    "## Exercises"
   ]
  },
  {
   "cell_type": "markdown",
   "metadata": {},
   "source": [
    "### Exercise 1.1:\n",
    "What does this code return?\n",
    "\n",
    "```python\n",
    "my_string = \"2cfo6njs[pwi2r3adcvy\"\n",
    "my_string[0:10:2]\n",
    "```\n",
    "What could the 2 mean in that context?"
   ]
  },
  {
   "cell_type": "code",
   "execution_count": null,
   "metadata": {},
   "outputs": [],
   "source": [
    "# type to check your answer\n"
   ]
  },
  {
   "cell_type": "markdown",
   "metadata": {},
   "source": [
    "### Exercise 1.2:\n",
    "\n",
    "How can you make this calculation work?\n",
    "\n",
    "```python\n",
    "a = 5\n",
    "b = \"6\"\n",
    "a + b\n",
    "```"
   ]
  },
  {
   "cell_type": "code",
   "execution_count": 2,
   "metadata": {},
   "outputs": [
    {
     "data": {
      "text/plain": [
       "11"
      ]
     },
     "execution_count": 2,
     "metadata": {},
     "output_type": "execute_result"
    }
   ],
   "source": [
    "a = 5\n",
    "b = 6\n",
    "# correct here\n",
    "a + b"
   ]
  },
  {
   "cell_type": "markdown",
   "metadata": {},
   "source": [
    "### Exercise 1.3:\n",
    "Print out the first letter of every word in the string.\n",
    "\n",
    "```python\n",
    "sentence = 'Sober Physicists Don’t Find Giraffes Hiding In Kitchens'\n",
    "```\n",
    "What do you observe?"
   ]
  },
  {
   "cell_type": "code",
   "execution_count": null,
   "metadata": {},
   "outputs": [],
   "source": [
    "sentence = 'Sober Physicists Don’t Find Giraffes Hiding In Kitchens'\n",
    "\n",
    "# print solution here"
   ]
  },
  {
   "cell_type": "markdown",
   "metadata": {},
   "source": [
    "### Exercise 1.4:\n",
    "\n",
    "1. Create a dictionary that represents the following table:\n",
    " \n",
    "| Base | Acid |\n",
    "|------|------|\n",
    "| 'NaOH' | 'HCl' |\n",
    "| 'KOH' | 'H2SO4' |\n",
    "| 'Ca(OH)2' | 'HNO3' |\n",
    "\n",
    "2. Add a new base to the dictionary: `NH4OH`.\n",
    "3. Print out the categories and chemicals. "
   ]
  },
  {
   "cell_type": "code",
   "execution_count": 3,
   "metadata": {},
   "outputs": [
    {
     "name": "stdout",
     "output_type": "stream",
     "text": [
      "{'NaOH': 'Base', 'HCL': 'Acid', 'KOH': 'Base', 'H2SO4': 'Acid', 'NH4OH': 'Base'}\n"
     ]
    }
   ],
   "source": [
    "# 1.\n",
    "acid_base={'NaOH':'Base','HCL':'Acid','KOH':'Base','H2SO4':'Acid'}\n",
    "acid_base['NH4OH']='Base'\n",
    "# 2.\n",
    "print(acid_base)\n",
    "# 3."
   ]
  },
  {
   "cell_type": "markdown",
   "metadata": {},
   "source": [
    "# 2. Setting paths\n",
    "\n",
    "Setting paths when coding is important. It is a good practice to set the paths to folders/data in a way that is reproducible and especially shareable. This is important when sharing code with others, or when you are working on a project that requires data from different sources. Paths also look different on different operating systems (Windows, Mac, Linux), so it is important to set paths in a way that is compatible with all operating systems. Luckily, there are libraries like `os` and `pathlib` that can help us with that. We will look into `pathlib` in this notebook."
   ]
  },
  {
   "cell_type": "markdown",
   "metadata": {},
   "source": [
    "## Introduction to Pathlib\n",
    "An introduction to the pathlib module, which provides a way to handle filesystem paths."
   ]
  },
  {
   "cell_type": "code",
   "execution_count": 6,
   "metadata": {},
   "outputs": [
    {
     "name": "stdout",
     "output_type": "stream",
     "text": [
      "C:\\Users\\simon\\Desktop\\Regroupement\\Pro\\EPFL\\Chemical_prog\\practical-programming-in-chemistry-exercises\\week_01\n",
      ".ipynb_checkpoints\n",
      "01_exercise.ipynb\n",
      "01_solution.ipynb\n",
      "README.md\n",
      "True\n",
      "True\n",
      "False\n",
      "False\n"
     ]
    }
   ],
   "source": [
    "# Introduction to Pathlib\n",
    "\n",
    "# Importing the pathlib module\n",
    "from pathlib import Path\n",
    "\n",
    "# Creating a Path object\n",
    "p = Path('.')\n",
    "\n",
    "# Displaying the current directory\n",
    "print(p.resolve())\n",
    "\n",
    "# Listing all files in the current directory\n",
    "for file in p.iterdir():\n",
    "    print(file)\n",
    "\n",
    "# Creating a new directory\n",
    "new_dir = p / 'new_directory'\n",
    "new_dir.mkdir(exist_ok=True)\n",
    "\n",
    "# Checking if the new directory exists\n",
    "print(new_dir.exists())\n",
    "\n",
    "# Creating a new file in the new directory\n",
    "new_file = new_dir / 'new_file.txt'\n",
    "new_file.touch()\n",
    "\n",
    "# Checking if the new file exists\n",
    "print(new_file.exists())\n",
    "\n",
    "# Deleting the new file\n",
    "new_file.unlink()\n",
    "\n",
    "# Checking if the new file exists\n",
    "print(new_file.exists())\n",
    "\n",
    "# Deleting the new directory\n",
    "new_dir.rmdir()\n",
    "\n",
    "# Checking if the new directory exists\n",
    "print(new_dir.exists())"
   ]
  },
  {
   "cell_type": "markdown",
   "metadata": {},
   "source": [
    "## Exercises"
   ]
  },
  {
   "cell_type": "markdown",
   "metadata": {},
   "source": [
    "### Exercise 2.1:\n",
    "\n",
    "1. Create a directory called `ex_folder` in the current working directory. \n",
    "2. Check after creation if the directory exists.\n",
    "3. Create a file called `ex_file.txt` in the `ex_folder` directory."
   ]
  },
  {
   "cell_type": "code",
   "execution_count": 57,
   "metadata": {},
   "outputs": [],
   "source": [
    "# 1\n",
    "from pathlib import Path\n",
    "p = Path('.')\n",
    "ex_folder = p / 'ex_folder'\n",
    "ex_folder.mkdir(exist_ok=True)"
   ]
  },
  {
   "cell_type": "code",
   "execution_count": 58,
   "metadata": {},
   "outputs": [
    {
     "data": {
      "text/plain": [
       "WindowsPath('C:/Users/simon/Desktop/Regroupement/Pro/EPFL/Chemical_prog/practical-programming-in-chemistry-exercises/week_01/ex_folder')"
      ]
     },
     "execution_count": 58,
     "metadata": {},
     "output_type": "execute_result"
    }
   ],
   "source": [
    "ex_folder.resolve()"
   ]
  },
  {
   "cell_type": "code",
   "execution_count": 59,
   "metadata": {},
   "outputs": [
    {
     "data": {
      "text/plain": [
       "True"
      ]
     },
     "execution_count": 59,
     "metadata": {},
     "output_type": "execute_result"
    }
   ],
   "source": [
    "# 2.\n",
    "ex_folder.exists()"
   ]
  },
  {
   "cell_type": "code",
   "execution_count": 60,
   "metadata": {},
   "outputs": [],
   "source": [
    "# 3.\n",
    "ex_file = ex_folder / 'ex_file.txt'\n",
    "ex_file.touch()"
   ]
  },
  {
   "cell_type": "markdown",
   "metadata": {},
   "source": [
    "### Exercise 2.2:\n",
    "\n",
    "Correct these paths so that it works on all operating systems, if possible. \n",
    "```python\n",
    "path1 = 'C:\\Path\\to\\your\\working\\dir\\ex_file.txt'\n",
    "path2 = 'Path/to/your/working/dir/ex_file.txt'\n",
    "path3 = '/Users/neeser/Documents/teaching/CH-200_PracticalProgrammingChem/practical-programming-in-chemistry-exercises/week_01/ex_folder/ex_file.txt\n",
    "```\n",
    "\n",
    "What are the issues with these paths?"
   ]
  },
  {
   "cell_type": "code",
   "execution_count": 61,
   "metadata": {},
   "outputs": [
    {
     "name": "stdout",
     "output_type": "stream",
     "text": [
      "True\n",
      "True\n",
      "True\n"
     ]
    }
   ],
   "source": [
    "from pathlib import Path\n",
    "path1 = Path('C:/Users\\simon\\Desktop\\Regroupement\\Pro\\EPFL\\Chemical_prog\\practical-programming-in-chemistry-exercises\\week_01\\ex_folder\\ex_file.txt')\n",
    "path2 = Path('/Users/simon/Desktop/Regroupement/Pro/EPFL/Chemical_prog/practical-programming-in-chemistry-exercises/week_01/ex_folder/ex_file.txt')\n",
    "path3 = Path('/Users/simon/Desktop/Regroupement/Pro/EPFL/Chemical_prog/practical-programming-in-chemistry-exercises/week_01/ex_folder/ex_file.txt')\n",
    "# correct here\n",
    "\n",
    "\n",
    "print(path1.exists())\n",
    "print(path2.exists())\n",
    "print(path3.exists())"
   ]
  },
  {
   "cell_type": "markdown",
   "metadata": {},
   "source": [
    "### Exercise 2.3:\n",
    "\n",
    "Delete the `ex_folder` directory and its contents. Check if the directory exists after deletion."
   ]
  },
  {
   "cell_type": "code",
   "execution_count": 56,
   "metadata": {},
   "outputs": [
    {
     "ename": "OSError",
     "evalue": "[WinError 145] Le répertoire n’est pas vide: 'ex_folder'",
     "output_type": "error",
     "traceback": [
      "\u001b[1;31m---------------------------------------------------------------------------\u001b[0m",
      "\u001b[1;31mOSError\u001b[0m                                   Traceback (most recent call last)",
      "Cell \u001b[1;32mIn[56], line 6\u001b[0m\n\u001b[0;32m      3\u001b[0m ex_file\u001b[38;5;241m.\u001b[39munlink()\n\u001b[0;32m      5\u001b[0m \u001b[38;5;66;03m# Deleting the new directory\u001b[39;00m\n\u001b[1;32m----> 6\u001b[0m \u001b[43mnew_dir\u001b[49m\u001b[38;5;241;43m.\u001b[39;49m\u001b[43mrmdir\u001b[49m\u001b[43m(\u001b[49m\u001b[43m)\u001b[49m\n",
      "File \u001b[1;32m~\\miniconda3\\envs\\ppchem\\lib\\pathlib.py:1215\u001b[0m, in \u001b[0;36mPath.rmdir\u001b[1;34m(self)\u001b[0m\n\u001b[0;32m   1211\u001b[0m \u001b[38;5;28;01mdef\u001b[39;00m \u001b[38;5;21mrmdir\u001b[39m(\u001b[38;5;28mself\u001b[39m):\n\u001b[0;32m   1212\u001b[0m \u001b[38;5;250m    \u001b[39m\u001b[38;5;124;03m\"\"\"\u001b[39;00m\n\u001b[0;32m   1213\u001b[0m \u001b[38;5;124;03m    Remove this directory.  The directory must be empty.\u001b[39;00m\n\u001b[0;32m   1214\u001b[0m \u001b[38;5;124;03m    \"\"\"\u001b[39;00m\n\u001b[1;32m-> 1215\u001b[0m     \u001b[38;5;28;43mself\u001b[39;49m\u001b[38;5;241;43m.\u001b[39;49m\u001b[43m_accessor\u001b[49m\u001b[38;5;241;43m.\u001b[39;49m\u001b[43mrmdir\u001b[49m\u001b[43m(\u001b[49m\u001b[38;5;28;43mself\u001b[39;49m\u001b[43m)\u001b[49m\n",
      "\u001b[1;31mOSError\u001b[0m: [WinError 145] Le répertoire n’est pas vide: 'ex_folder'"
     ]
    }
   ],
   "source": [
    "# delete the directory and its contents\n",
    "# Deleting the new file\n",
    "ex_file.unlink()\n",
    "\n",
    "# Deleting the new directory\n",
    "new_dir.rmdir()"
   ]
  },
  {
   "cell_type": "code",
   "execution_count": null,
   "metadata": {},
   "outputs": [],
   "source": [
    "# check if ex_folder exists\n",
    "# Checking if the new file exists\n",
    "print(ex_file.exists())\n",
    "# Checking if the new directory exists\n",
    "print(ex_dir.exists())"
   ]
  },
  {
   "cell_type": "code",
   "execution_count": null,
   "metadata": {},
   "outputs": [],
   "source": []
  }
 ],
 "metadata": {
  "kernelspec": {
   "display_name": "Python 3 (ipykernel)",
   "language": "python",
   "name": "python3"
  },
  "language_info": {
   "codemirror_mode": {
    "name": "ipython",
    "version": 3
   },
   "file_extension": ".py",
   "mimetype": "text/x-python",
   "name": "python",
   "nbconvert_exporter": "python",
   "pygments_lexer": "ipython3",
   "version": "3.10.14"
  }
 },
 "nbformat": 4,
 "nbformat_minor": 4
}
